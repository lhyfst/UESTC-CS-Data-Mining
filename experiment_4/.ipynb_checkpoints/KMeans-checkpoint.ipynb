{
 "cells": [
  {
   "cell_type": "code",
   "execution_count": 1,
   "metadata": {
    "ExecuteTime": {
     "end_time": "2018-06-15T04:45:32.393667Z",
     "start_time": "2018-06-15T04:45:31.279715Z"
    }
   },
   "outputs": [],
   "source": [
    "import pandas as pd\n",
    "import numpy as np\n",
    "import matplotlib.pyplot as plt\n",
    "\n",
    "def loadDataset(infile):\n",
    "    df = pd.read_csv(infile,sep='\\t',header=0,dtype = str, na_filter=False)\n",
    "    return np.array(df).astype(np.float)"
   ]
  },
  {
   "cell_type": "code",
   "execution_count": 2,
   "metadata": {
    "ExecuteTime": {
     "end_time": "2018-06-15T04:45:40.027616Z",
     "start_time": "2018-06-15T04:45:40.014835Z"
    }
   },
   "outputs": [],
   "source": [
    "data_X = loadDataset(r\"data.txt\")"
   ]
  },
  {
   "cell_type": "code",
   "execution_count": 3,
   "metadata": {
    "ExecuteTime": {
     "end_time": "2018-06-15T04:45:47.006357Z",
     "start_time": "2018-06-15T04:45:46.987829Z"
    },
    "collapsed": true
   },
   "outputs": [
    {
     "data": {
      "text/plain": [
       "array([[-3.453687,  3.424321],\n",
       "       [ 4.838138, -1.151539],\n",
       "       [-5.379713, -3.362104],\n",
       "       [ 0.972564,  2.924086],\n",
       "       [-3.567919,  1.531611],\n",
       "       [ 0.450614, -3.302219],\n",
       "       [-3.487105, -1.724432],\n",
       "       [ 2.668759,  1.594842],\n",
       "       [-3.156485,  3.191137],\n",
       "       [ 3.165506, -3.999838],\n",
       "       [-2.786837, -3.099354],\n",
       "       [ 4.208187,  2.984927],\n",
       "       [-2.123337,  2.943366],\n",
       "       [ 0.704199, -0.479481],\n",
       "       [-0.39237 , -3.963704],\n",
       "       [ 2.831667,  1.574018],\n",
       "       [-0.790153,  3.343144],\n",
       "       [ 2.943496, -3.357075],\n",
       "       [-3.195883, -2.283926],\n",
       "       [ 2.336445,  2.875106],\n",
       "       [-1.786345,  2.554248],\n",
       "       [ 2.190101, -1.90602 ],\n",
       "       [-3.403367, -2.778288],\n",
       "       [ 1.778124,  3.880832],\n",
       "       [-1.688346,  2.230267],\n",
       "       [ 2.592976, -2.054368],\n",
       "       [-4.007257, -3.207066],\n",
       "       [ 2.257734,  3.387564],\n",
       "       [-2.679011,  0.785119],\n",
       "       [ 0.939512, -4.023563],\n",
       "       [-3.674424, -2.261084],\n",
       "       [ 2.046259,  2.735279],\n",
       "       [-3.18947 ,  1.780269],\n",
       "       [ 4.372646, -0.822248],\n",
       "       [-2.579316, -3.497576],\n",
       "       [ 1.889034,  5.1904  ],\n",
       "       [-0.798747,  2.185588],\n",
       "       [ 2.83652 , -2.658556],\n",
       "       [-3.837877, -3.253815],\n",
       "       [ 2.096701,  3.886007],\n",
       "       [-2.709034,  2.923887],\n",
       "       [ 3.367037, -3.184789],\n",
       "       [-2.121479, -4.232586],\n",
       "       [ 2.329546,  3.179764],\n",
       "       [-3.284816,  3.273099],\n",
       "       [ 3.091414, -3.815232],\n",
       "       [-3.762093, -2.432191],\n",
       "       [ 3.542056,  2.778832],\n",
       "       [-1.736822,  4.241041],\n",
       "       [ 2.127073, -2.98368 ],\n",
       "       [-4.323818, -3.938116],\n",
       "       [ 3.792121,  5.135768],\n",
       "       [-4.786473,  3.358547],\n",
       "       [ 2.624081, -3.260715],\n",
       "       [-4.009299, -2.978115],\n",
       "       [ 2.493525,  1.96371 ],\n",
       "       [-2.513661,  2.642162],\n",
       "       [ 1.864375, -3.176309],\n",
       "       [-3.171184, -3.572452],\n",
       "       [ 2.89422 ,  2.489128],\n",
       "       [-2.562539,  2.884438],\n",
       "       [ 3.491078, -3.947487],\n",
       "       [-2.565729, -2.012114],\n",
       "       [ 3.332948,  3.983102],\n",
       "       [-1.616805,  3.573188],\n",
       "       [ 2.280615, -2.559444],\n",
       "       [-2.651229, -3.103198],\n",
       "       [ 2.321395,  3.154987],\n",
       "       [-1.685703,  2.939697],\n",
       "       [ 3.031012, -3.620252],\n",
       "       [-4.599622, -2.185829],\n",
       "       [ 4.196223,  1.126677],\n",
       "       [-2.133863,  3.093686],\n",
       "       [ 4.668892, -2.562705],\n",
       "       [-2.793241, -2.149706],\n",
       "       [ 2.884105,  3.043438],\n",
       "       [-2.967647,  2.848696],\n",
       "       [ 4.479332, -1.764772],\n",
       "       [-4.905566, -2.91107 ]])"
      ]
     },
     "execution_count": 3,
     "metadata": {},
     "output_type": "execute_result"
    }
   ],
   "source": [
    "data_X"
   ]
  },
  {
   "cell_type": "code",
   "execution_count": null,
   "metadata": {},
   "outputs": [],
   "source": [
    "class KMeansCluster():\n",
    "    def __init__(self, k = 3,initCent = 'random', max_iter = 500):\n",
    "        self._k = k  # 簇心个数\n",
    "        self._initCent = initCent  # 初始化簇心\n",
    "        self._max_iter = max_iter  # 最大迭代次数\n",
    "        self._clusterAssment = None  # \n",
    "        self._labels = None  # 每个点对应的簇编号， 即标签\n",
    "        \n",
    "    def _calEDist(self, arrA, arrB):\n",
    "        \"\"\"计算欧式距离\"\"\"\n",
    "        return np.math.sqrt(sum(np.power(arrA - arrB, 2)))\n",
    "    \n",
    "    def _randCent(self,data_X,k):\n",
    "        \"\"\"随机初始化簇心\"\"\"\n",
    "        n = data_X.shape[1]  # 特征维数\n",
    "        centroids = np.empty((k,n))  # 建立用于储存簇心的矩阵\n",
    "        \n",
    "        # 在数据各个维度范围内进行随机初始化簇心\n",
    "        for j in range(n):\n",
    "            minJ = min(data_X[:,j])\n",
    "            rangeJ = float(max(data_X[:,j] - minJ))\n",
    "            centroids[:,j] = (minJ +rangeJ * np.random.rand(k,1)).flatten()\n",
    "        return centroids\n",
    "    \n",
    "    def fit(self, data_X):\n",
    "        # 检测输入\n",
    "        if not isinstance(data_X, np.ndarray) or isinstance(data_X, np.matrixlib.defmatrix.matrix):\n",
    "            try:\n",
    "                data_X = np.asarray(data_X)\n",
    "            except:\n",
    "                raise TypeError(\"numpy.ndarray resuired for data_X\")\n",
    "            \n",
    "            m = data_X.shape[0]  # 获取数据长度，即样本个数\n",
    "            # 建立一个m*2的矩阵，其第一列储存样本点对应的label，第二列储存该店与簇心的平方误差\n",
    "            self._clusterAssment = np.zeros((m,2))\n",
    "            \n",
    "            if self._initCent == 'random':\n",
    "                self._centroids = self._randCent(data, self._k)\n",
    "            \n",
    "            clusterChanged = True  # 检测簇心是否发生变化的flag\n",
    "            for _ in range(self._max_iter):  # 直到最大迭代次数\n",
    "                clusterChanged = False\n",
    "                # 对每个点，找其最近的簇心\n",
    "                for i in range(m):\n",
    "                    minDist = np.inf\n",
    "                    minIndex = -1\n",
    "                    for j in range(self._k):\n",
    "                        arrA = self._centroids[j,:]\n",
    "                        arrB = data_X[i,:]\n",
    "                        distJI = self._calEDist(arrA, arrB)\n",
    "                        if distJI < minDist:\n",
    "                            minDist = distJI\n",
    "                            minIndex = j\n",
    "                    if self._clusterAssment[i,0] != minIndex or self._clusterAssment[i,1] >minDist ** 2:\n",
    "                        clusterChanged = True\n",
    "                        # 记录各个点对应的簇心变化情况\n",
    "                        self._clusterAssment[i, :] = minIndex, minDist ** 2\n",
    "                if not clusterChanged:\n",
    "                    break\n",
    "                for i in range(self._k):\n",
    "                    index_all = self._clusterAssment[:,0]\n",
    "                    value = np.nonzero(index_all == i)\n",
    "                    ptsInClust = data_X[value[0]]\n",
    "                    self._centroids[i,:] = np.mean(ptsInClust, axis = 0)\n",
    "            self._labels = self._clusterAssment[:,0]"
   ]
  },
  {
   "cell_type": "code",
   "execution_count": null,
   "metadata": {},
   "outputs": [],
   "source": [
    "if __name__  == \"__main__\":\n",
    "    data_X = loadDataset(r\"data.txt\")  # 加载数据\n",
    "    k = 3  # 设置簇个数\n",
    "    clf = KMeansCluster(k)  # 创建实例\n",
    "    clf.fit(data_X)  # 训练模型\n",
    "    cents = clf._centroids  # 取出簇心\n",
    "    labels = clf._labels  # 取出标签\n",
    "    \n",
    "    # 绘图\n",
    "    colors = ['b','g','r','k','c','m','y','#e24fff','#524C90','#845868']\n",
    "    for i in range(k):\n",
    "        index = np.nonzero(labels == i)[0]\n",
    "        x0 = data_X[index,0]\n",
    "        x1 = data_X[index,1]\n",
    "        y_i = i\n",
    "        for j in range(len(x0)):\n",
    "            plt.text(x0[j],x1[j],str(y_i),color = color[i], fontdict = {'weight': 'bold','size':6})\n",
    "            plt.scatter(cents[i,0],cents[i,1],marker='x',color=colors[i],linewidths=7)\n",
    "            plt.axis([-7,7,-7,7])\n",
    "            plt.show()"
   ]
  }
 ],
 "metadata": {
  "kernelspec": {
   "display_name": "Python 2",
   "language": "python",
   "name": "python2"
  },
  "language_info": {
   "codemirror_mode": {
    "name": "ipython",
    "version": 2
   },
   "file_extension": ".py",
   "mimetype": "text/x-python",
   "name": "python",
   "nbconvert_exporter": "python",
   "pygments_lexer": "ipython2",
   "version": "2.7.12"
  },
  "nbTranslate": {
   "displayLangs": [
    "*"
   ],
   "hotkey": "alt-t",
   "langInMainMenu": true,
   "sourceLang": "en",
   "targetLang": "fr",
   "useGoogleTranslate": true
  },
  "toc": {
   "nav_menu": {},
   "number_sections": true,
   "sideBar": true,
   "skip_h1_title": false,
   "title_cell": "Table of Contents",
   "title_sidebar": "Contents",
   "toc_cell": false,
   "toc_position": {},
   "toc_section_display": true,
   "toc_window_display": false
  },
  "varInspector": {
   "cols": {
    "lenName": 16,
    "lenType": 16,
    "lenVar": 40
   },
   "kernels_config": {
    "python": {
     "delete_cmd_postfix": "",
     "delete_cmd_prefix": "del ",
     "library": "var_list.py",
     "varRefreshCmd": "print(var_dic_list())"
    },
    "r": {
     "delete_cmd_postfix": ") ",
     "delete_cmd_prefix": "rm(",
     "library": "var_list.r",
     "varRefreshCmd": "cat(var_dic_list()) "
    }
   },
   "types_to_exclude": [
    "module",
    "function",
    "builtin_function_or_method",
    "instance",
    "_Feature"
   ],
   "window_display": false
  }
 },
 "nbformat": 4,
 "nbformat_minor": 2
}
