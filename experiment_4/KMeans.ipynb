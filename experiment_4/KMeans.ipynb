{
 "cells": [
  {
   "cell_type": "code",
   "execution_count": 3,
   "metadata": {
    "ExecuteTime": {
     "end_time": "2018-06-15T05:17:07.573015Z",
     "start_time": "2018-06-15T05:17:07.150907Z"
    }
   },
   "outputs": [
    {
     "data": {
      "image/png": "[encoded data removed]",
      "text/plain": [
       "<Figure size 432x288 with 1 Axes>"
      ]
     },
     "metadata": {},
     "output_type": "display_data"
    }
   ],
   "source": [
    "import pandas as pd\n",
    "import numpy as np\n",
    "import matplotlib.pyplot as plt\n",
    "\n",
    "def loadDataset(infile):\n",
    "    df = pd.read_csv(infile,sep='\\t',header=0,dtype = str, na_filter=False)\n",
    "    return np.array(df).astype(np.float)\n",
    "\n",
    "class KMeansCluster():\n",
    "    def __init__(self, k = 3,initCent = 'random', max_iter = 500):\n",
    "        self._k = k  # 簇心个数\n",
    "        self._initCent = initCent  # 初始化簇心\n",
    "        self._max_iter = max_iter  # 最大迭代次数\n",
    "        self._clusterAssment = None  # \n",
    "        self._labels = None  # 每个点对应的簇编号， 即标签\n",
    "        \n",
    "    def _calEDist(self, arrA, arrB):\n",
    "        \"\"\"计算欧式距离\"\"\"\n",
    "        return np.math.sqrt(sum(np.power(arrA - arrB, 2)))\n",
    "    \n",
    "    def _randCent(self,data_X,k):\n",
    "        \"\"\"随机初始化簇心\"\"\"\n",
    "        n = data_X.shape[1]  # 特征维数\n",
    "        centroids = np.empty((k,n))  # 建立用于储存簇心的矩阵\n",
    "        \n",
    "        # 在数据各个维度范围内进行随机初始化簇心\n",
    "        for j in range(n):\n",
    "            minJ = min(data_X[:,j])\n",
    "            rangeJ = float(max(data_X[:,j] - minJ))\n",
    "            centroids[:,j] = (minJ +rangeJ * np.random.rand(k,1)).flatten()\n",
    "        return centroids\n",
    "    \n",
    "    def fit(self, data_X):\n",
    "        # 检测输入\n",
    "        if not isinstance(data_X, np.ndarray) or isinstance(data_X, np.matrixlib.defmatrix.matrix):\n",
    "            try:\n",
    "                data_X = np.asarray(data_X)\n",
    "            except:\n",
    "                raise TypeError(\"numpy.ndarray resuired for data_X\")\n",
    "            \n",
    "        m = data_X.shape[0]  # 获取数据长度，即样本个数\n",
    "        # 建立一个m*2的矩阵，其第一列储存样本点对应的label，第二列储存该店与簇心的平方误差\n",
    "        self._clusterAssment = np.zeros((m,2))\n",
    "        if self._initCent == 'random':\n",
    "            self._centroids = self._randCent(data_X, self._k)\n",
    "\n",
    "        clusterChanged = True  # 检测簇心是否发生变化的flag\n",
    "        for _ in range(self._max_iter):  # 直到最大迭代次数\n",
    "            clusterChanged = False\n",
    "            # 对每个点，找其最近的簇心\n",
    "            for i in range(m):\n",
    "                minDist = np.inf\n",
    "                minIndex = -1\n",
    "                for j in range(self._k):\n",
    "                    arrA = self._centroids[j,:]\n",
    "                    arrB = data_X[i,:]\n",
    "                    distJI = self._calEDist(arrA, arrB)\n",
    "                    if distJI < minDist:\n",
    "                        minDist = distJI\n",
    "                        minIndex = j\n",
    "                if self._clusterAssment[i,0] != minIndex or self._clusterAssment[i,1] >minDist ** 2:\n",
    "                    clusterChanged = True\n",
    "                    # 记录各个点对应的簇心变化情况\n",
    "                    self._clusterAssment[i, :] = minIndex, minDist ** 2\n",
    "            if not clusterChanged:\n",
    "                break\n",
    "            for i in range(self._k):\n",
    "                index_all = self._clusterAssment[:,0]\n",
    "                value = np.nonzero(index_all == i)\n",
    "                ptsInClust = data_X[value[0]]\n",
    "                self._centroids[i,:] = np.mean(ptsInClust, axis = 0)\n",
    "        self._labels = self._clusterAssment[:,0]\n",
    "\n",
    "if __name__  == \"__main__\":\n",
    "    data_X = loadDataset(r\"data.txt\")  # 加载数据\n",
    "    k = 3  # 设置簇个数\n",
    "    clf = KMeansCluster(k)  # 创建实例\n",
    "    clf.fit(data_X)  # 训练模型\n",
    "    cents = clf._centroids  # 取出簇心\n",
    "    labels = clf._labels  # 取出标签\n",
    "    \n",
    "    # 绘图\n",
    "    colors = ['b','g','r','k','c','m','y','#e24fff','#524C90','#845868']\n",
    "    for i in range(k):\n",
    "        index = np.nonzero(labels == i)[0]\n",
    "        x0 = data_X[index,0]\n",
    "        x1 = data_X[index,1]\n",
    "        y_i = i\n",
    "        for j in range(len(x0)):\n",
    "            plt.text(x0[j],x1[j],str(y_i),color = colors[i], fontdict = {'weight': 'bold','size':6})\n",
    "        plt.scatter(cents[i,0],cents[i,1],marker='x',color=colors[i],linewidths=7)\n",
    "    plt.axis([-7,7,-7,7])\n",
    "    plt.show()"
   ]
  }
 ],
 "metadata": {
  "kernelspec": {
   "display_name": "Python 2",
   "language": "python",
   "name": "python2"
  },
  "language_info": {
   "codemirror_mode": {
    "name": "ipython",
    "version": 2
   },
   "file_extension": ".py",
   "mimetype": "text/x-python",
   "name": "python",
   "nbconvert_exporter": "python",
   "pygments_lexer": "ipython2",
   "version": "2.7.12"
  },
  "nbTranslate": {
   "displayLangs": [
    "*"
   ],
   "hotkey": "alt-t",
   "langInMainMenu": true,
   "sourceLang": "en",
   "targetLang": "fr",
   "useGoogleTranslate": true
  },
  "toc": {
   "nav_menu": {},
   "number_sections": true,
   "sideBar": true,
   "skip_h1_title": false,
   "title_cell": "Table of Contents",
   "title_sidebar": "Contents",
   "toc_cell": false,
   "toc_position": {},
   "toc_section_display": true,
   "toc_window_display": false
  },
  "varInspector": {
   "cols": {
    "lenName": 16,
    "lenType": 16,
    "lenVar": 40
   },
   "kernels_config": {
    "python": {
     "delete_cmd_postfix": "",
     "delete_cmd_prefix": "del ",
     "library": "var_list.py",
     "varRefreshCmd": "print(var_dic_list())"
    },
    "r": {
     "delete_cmd_postfix": ") ",
     "delete_cmd_prefix": "rm(",
     "library": "var_list.r",
     "varRefreshCmd": "cat(var_dic_list()) "
    }
   },
   "types_to_exclude": [
    "module",
    "function",
    "builtin_function_or_method",
    "instance",
    "_Feature"
   ],
   "window_display": false
  }
 },
 "nbformat": 4,
 "nbformat_minor": 2
}
