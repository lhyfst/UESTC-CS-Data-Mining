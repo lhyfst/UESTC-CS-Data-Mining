{
 "cells": [
  {
   "cell_type": "code",
   "execution_count": 12,
   "metadata": {
    "ExecuteTime": {
     "end_time": "2018-06-14T13:58:26.616878Z",
     "start_time": "2018-06-14T13:58:26.337918Z"
    }
   },
   "outputs": [
    {
     "name": "stdout",
     "output_type": "stream",
     "text": [
      "{'a': 4, 'ae': 3, 'ab': 2, 'b': 2, 'e': 3}\n",
      "{'ab': 2, 'ae': 3}\n",
      "ab\n",
      "ba\n",
      "ae\n",
      "ea\n",
      "b------>>>a\n",
      "e------>>>a\n"
     ]
    }
   ],
   "source": [
    "import collections\n",
    "import itertools\n",
    "\n",
    "traDatas = ['abe','ae','abc','ade']\n",
    "\n",
    "class Apriori:\n",
    "    traDatas = []  # 临时的（当前的）数据集合\n",
    "    traLen = 0  # 当前的数据集合的长度\n",
    "    k = 1  # 频繁k项集，从1开始\n",
    "    traCount = {}  # 对当前的数据集合的各个元素进行计数的集合\n",
    "    freTran = {}  # 对频繁元素进行储存\n",
    "    sup = 0  # 支持度\n",
    "    conf = 0  # 置信度\n",
    "    freAllTran = {}  # 所有的频繁转移集\n",
    "    \n",
    "    def __init__(self,traDatas,sup,conf):\n",
    "        self.traDatas = traDatas  # 数据集合\n",
    "        self.traLen = len(traDatas)  # 数据集合的长度\n",
    "        self.sup = sup  # 支持度\n",
    "        self.conf = conf  # 置信度\n",
    "        \n",
    "    def scanFirDatas(self):\n",
    "        \"\"\"计算每个元素的频率\"\"\"\n",
    "        tmpStr = ''.join(traDatas)  # 将所有数据合并\n",
    "        self.traCount = dict(collections.Counter(tmpStr))  # 对每个元素进行计数\n",
    "        return self.traCount\n",
    "\n",
    "    def getFreSet(self):\n",
    "        self.freTran = {}\n",
    "        for tra in self.traCount.keys():  # 遍历所有的元素\n",
    "            if self.traCount[tra] >= self.sup and len(tra) == self.k: # 对于长度为k的元素，选取其数量大于sup的元素作为频繁集\n",
    "                self.freTran[tra] = self.traCount[tra]\n",
    "                self.freAllTran[tra] = self.traCount[tra]\n",
    "                \n",
    "    def cmpTwoSet(self,setA,setB):\n",
    "        \"\"\"若两个集合中有n-1个元素相同，则返回True\"\"\"\n",
    "        setA = set(setA)\n",
    "        setB = set(setB)\n",
    "        if len(setA - setB) == 1 and len(setB - setA) == 1:\n",
    "            return True\n",
    "        else:\n",
    "            return False\n",
    "                \n",
    "    def selfConn(self):\n",
    "        self.traCount = {}  # 清空traCount\n",
    "        for item in itertools.combinations(self.freTran.keys(),2): # 对于上一次得到的频繁集中的元素进行两两组合\n",
    "            if self.cmpTwoSet(item[0], item[1]) == True :  # 若两个集合中有n-1个元素相同\n",
    "                key = ''.join(sorted(''.join(set(item[0]).union(set(item[1])))))\n",
    "                # 上一句的含义为：\n",
    "                # 先对两个集合求并集\n",
    "                # 再用join函数将其合并成string\n",
    "                # 再对其按字母表进行排序，转换成list（我认为不需要，因为求并集的时候已经是从前之后进行排序了）\n",
    "                # 再将list重新转换为string（同样不需要）\n",
    "                # 总之，就是先取并集再转换成string\n",
    "                if self.cutBranch(key) != False:  \n",
    "                    # 对于得到的string的各个k元子集，若这些子集存在非频繁集，\n",
    "                    # 则将该string对应的集合的计数值设为0，即等价于将其判断为非频繁集\n",
    "                    self.traCount[key] = 0\n",
    "                    \n",
    "    def scanDatas(self):\n",
    "        self.k = self.k + 1  # k自增\n",
    "        for tra in traDatas:\n",
    "            for key in self.traCount.keys():\n",
    "                self.traCount[key] = self.traCount[key] + self.findChars(tra, key)\n",
    "                    \n",
    "                    \n",
    "    def cutBranch(self, key):\n",
    "        \"\"\"剪枝，对于得到的string的各个k元子集，若这些k元子集存在非频繁集，则返回False\"\"\"\n",
    "        for subKey in list(itertools.combinations(key,self.k)):\n",
    "            if ''.join(list(subKey)) not in self.freTran.keys():\n",
    "                return False\n",
    "            \n",
    "    def findChars(self, str_, chars):\n",
    "        \"\"\"查看某一字符串中是否有某个字符\"\"\"\n",
    "        for char in list(chars):\n",
    "            if char not in str_:\n",
    "                return False\n",
    "        return 1\n",
    "    \n",
    "    def permutation(self, string, pre_str, container):\n",
    "        if len(string) == 1:\n",
    "            container.append(pre_str + string)\n",
    "        for idx, str_ in enumerate(string):\n",
    "            new_str = string[:idx] + string[idx + 1:]\n",
    "            new_pre_str = pre_str + str_\n",
    "            self.permutation(new_str, new_pre_str, container)\n",
    "            \n",
    "    def genAssRule(self):\n",
    "        container = []\n",
    "        ruleSet = set()\n",
    "        for item in self.freTran.keys():\n",
    "            self.permutation(item, '', container)\n",
    "        for item in container:\n",
    "            for i in range(1, len(item)):\n",
    "                print item[:i] + \"\" + item[i:]\n",
    "                ruleSet.add((''.join(sorted(item[:i])), ''.join(sorted(item[i:]))))\n",
    "        for rule in ruleSet:\n",
    "            if self.calcConfi(rule[0],rule[1]) > self.conf:  # 置信度\n",
    "                print rule[0] + '------>>>' + rule[1]\n",
    "                \n",
    "    def calcConfi(self,first,last):\n",
    "        return self.freAllTran[''.join(sorted(first+last))]/self.freAllTran[''.join(sorted(first))]\n",
    "    \n",
    "    \n",
    "    def algorithm(self):\n",
    "        self.scanFirDatas()   # 计算了每个元素的频数\n",
    "        while self.traCount != {}:  # 直到计数集合为空，否则一直循环\n",
    "            self.getFreSet()\n",
    "            self.selfConn()\n",
    "            self.scanDatas()\n",
    "        print self.freAllTran\n",
    "        print self.freTran\n",
    "        self.genAssRule()\n",
    "        \n",
    "apriori = Apriori(traDatas, 2, 0.7)\n",
    "apriori.algorithm()"
   ]
  },
  {
   "cell_type": "code",
   "execution_count": 18,
   "metadata": {
    "ExecuteTime": {
     "end_time": "2018-06-14T15:11:05.705090Z",
     "start_time": "2018-06-14T15:11:05.689757Z"
    }
   },
   "outputs": [
    {
     "name": "stdout",
     "output_type": "stream",
     "text": [
      "{'a': 4, 'cde': 2, 'c': 5, 'ab': 2, 'ae': 3, 'd': 5, 'acd': 3, 'de': 2, 'ac': 4, 'ce': 2, 'cd': 4, 'b': 2, 'e': 2, 'ad': 3}\n",
      "{'cde': 2, 'acd': 3}\n",
      "cde\n",
      "cde\n",
      "ced\n",
      "ced\n",
      "dce\n",
      "dce\n",
      "dec\n",
      "dec\n",
      "ecd\n",
      "ecd\n",
      "edc\n",
      "edc\n",
      "acd\n",
      "acd\n",
      "adc\n",
      "adc\n",
      "cad\n",
      "cad\n",
      "cda\n",
      "cda\n",
      "dac\n",
      "dac\n",
      "dca\n",
      "dca\n",
      "ce------>>>d\n",
      "de------>>>c\n",
      "ad------>>>c\n",
      "e------>>>cd\n"
     ]
    }
   ],
   "source": [
    "traDatas = ['acde','abcdr','cde','acd','ac','df']\n",
    "apriori = Apriori(traDatas, 2, 0.7)\n",
    "apriori.algorithm()"
   ]
  }
 ],
 "metadata": {
  "kernelspec": {
   "display_name": "Python 2",
   "language": "python",
   "name": "python2"
  },
  "language_info": {
   "codemirror_mode": {
    "name": "ipython",
    "version": 2
   },
   "file_extension": ".py",
   "mimetype": "text/x-python",
   "name": "python",
   "nbconvert_exporter": "python",
   "pygments_lexer": "ipython2",
   "version": "2.7.12"
  },
  "nbTranslate": {
   "displayLangs": [
    "*"
   ],
   "hotkey": "alt-t",
   "langInMainMenu": true,
   "sourceLang": "en",
   "targetLang": "fr",
   "useGoogleTranslate": true
  },
  "toc": {
   "nav_menu": {},
   "number_sections": true,
   "sideBar": true,
   "skip_h1_title": false,
   "title_cell": "Table of Contents",
   "title_sidebar": "Contents",
   "toc_cell": false,
   "toc_position": {},
   "toc_section_display": true,
   "toc_window_display": false
  },
  "varInspector": {
   "cols": {
    "lenName": 16,
    "lenType": 16,
    "lenVar": 40
   },
   "kernels_config": {
    "python": {
     "delete_cmd_postfix": "",
     "delete_cmd_prefix": "del ",
     "library": "var_list.py",
     "varRefreshCmd": "print(var_dic_list())"
    },
    "r": {
     "delete_cmd_postfix": ") ",
     "delete_cmd_prefix": "rm(",
     "library": "var_list.r",
     "varRefreshCmd": "cat(var_dic_list()) "
    }
   },
   "types_to_exclude": [
    "module",
    "function",
    "builtin_function_or_method",
    "instance",
    "_Feature"
   ],
   "window_display": false
  }
 },
 "nbformat": 4,
 "nbformat_minor": 2
}
