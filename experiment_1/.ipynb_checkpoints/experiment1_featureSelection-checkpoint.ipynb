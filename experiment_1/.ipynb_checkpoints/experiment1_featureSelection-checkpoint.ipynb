{
 "cells": [
  {
   "cell_type": "code",
   "execution_count": 23,
   "metadata": {
    "ExecuteTime": {
     "end_time": "2018-06-14T13:12:18.663375Z",
     "start_time": "2018-06-14T13:12:18.480625Z"
    }
   },
   "outputs": [
    {
     "name": "stdout",
     "output_type": "stream",
     "text": [
      "[0.7299038051886471, 0.4304914571350462, 1.3510281744340518, 1.427355764201518]\n"
     ]
    }
   ],
   "source": [
    "import numpy as np\n",
    "import pandas as pd\n",
    "from collections import Counter\n",
    "\n",
    "def loadIris(address):  \n",
    "    spf = pd.read_csv(address, sep=',', index_col=False, header=None)  # 加载数据集\n",
    "    strs = spf[4] # 提取标签列\n",
    "    spf.drop([4], axis=1, inplace=True)  # 去除标签列\n",
    "    return spf.values, strs\n",
    "\n",
    "def featureSelection(features, label):\n",
    "    featureLen = len(features[0,:])\n",
    "    label_count = Counter(label)  # 计数\n",
    "    samples_energy = 0.0  \n",
    "    data_len = len(label)\n",
    "    for i in label_count.keys():  \n",
    "        label_count[i] /= float(data_len)  # 将个数转换成比例\n",
    "        samples_energy -= label_count[i] * np.log2(label_count[i])  # 计算熵\n",
    "\n",
    "    informationGain = []\n",
    "\n",
    "    for f in range(featureLen):\n",
    "        af = features[:,f]\n",
    "        minf = np.min(af)\n",
    "        maxf = np.max(af) + 1e-4  # 防止maxf为0，导致width为0，进而导致无法计算d\n",
    "        width = (maxf - minf)/10.0   # 将特征的区间分为10份\n",
    "\n",
    "        d = (af - minf) / width  # 查看有多少个以width为单位的偏差\n",
    "        dd = np.floor(d)   # 向下取整\n",
    "        c = Counter(dd)    # 计数\n",
    "\n",
    "        sub_energy = getEnergy(c, dd ,label)\n",
    "        informationGain.append(samples_energy - sub_energy)\n",
    "        \n",
    "    return informationGain\n",
    "\n",
    "# 计算熵\n",
    "def getEnergy(c, data, label):\n",
    "    dataLen = len(label)\n",
    "    energy = 0.0\n",
    "    for key, value in c.items():\n",
    "        c[key] /= float(dataLen)  # 归一化\n",
    "        label_picked = label[data == key]   # 找出标签为key的的数据\n",
    "        l = Counter(label_picked)  # 计数\n",
    "        e = 0.0\n",
    "        for k,v in l.items():\n",
    "            r = v/float(value)  # 归一化\n",
    "            e -= r*np.log2(r)   # 计算熵\n",
    "        energy += c[key] * e\n",
    "    return energy\n",
    "\n",
    "if __name__ == '__main__':\n",
    "    filepath = 'iris.txt'\n",
    "    data_matrix, str_name = loadIris(filepath)\n",
    "    informationGain = featureSelection(data_matrix, str_name.values)\n",
    "    print informationGain"
   ]
  },
  {
   "cell_type": "code",
   "execution_count": 13,
   "metadata": {
    "ExecuteTime": {
     "end_time": "2018-06-14T12:59:56.324899Z",
     "start_time": "2018-06-14T12:59:56.311637Z"
    }
   },
   "outputs": [
    {
     "data": {
      "text/plain": [
       "['Iris-virginica', 'Iris-setosa', 'Iris-versicolor']"
      ]
     },
     "execution_count": 13,
     "metadata": {},
     "output_type": "execute_result"
    }
   ],
   "source": [
    "label_count.keys()"
   ]
  },
  {
   "cell_type": "code",
   "execution_count": 16,
   "metadata": {
    "ExecuteTime": {
     "end_time": "2018-06-14T13:01:04.661116Z",
     "start_time": "2018-06-14T13:01:04.648273Z"
    }
   },
   "outputs": [
    {
     "data": {
      "text/plain": [
       "Counter({'Iris-setosa': 50, 'Iris-versicolor': 50, 'Iris-virginica': 50})"
      ]
     },
     "execution_count": 16,
     "metadata": {},
     "output_type": "execute_result"
    }
   ],
   "source": [
    "Counter(label)"
   ]
  },
  {
   "cell_type": "code",
   "execution_count": 5,
   "metadata": {
    "ExecuteTime": {
     "end_time": "2018-06-14T12:58:10.015383Z",
     "start_time": "2018-06-14T12:58:09.969439Z"
    }
   },
   "outputs": [],
   "source": [
    "features, label = data_matrix, str_name.values\n",
    "\n",
    "featureLen = len(features[0,:])\n",
    "label_count = Counter(label)  # 计数\n",
    "samples_energy = 0.0  \n",
    "data_len = len(label)\n",
    "for i in label_count.keys():  \n",
    "    label_count[i] /= float(data_len)  # 将个数转换成比例\n",
    "    samples_energy -= label_count[i] * np.log2(label_count[i])  # 计算熵\n",
    "\n",
    "informationGain = []\n",
    "\n",
    "for f in range(featureLen):\n",
    "    af = features[:,f]\n",
    "    minf = np.min(af)\n",
    "    maxf = np.max(af) + 1e-4  # 防止maxf为0，导致width为0，进而导致无法计算d\n",
    "    width = (maxf - minf)/10.0   # 将特征的区间分为10份\n",
    "\n",
    "    d = (af - minf) / width  # 查看有多少个以width为单位的偏差\n",
    "    dd = np.floor(d)   # 向下取整\n",
    "    c = Counter(dd)    # 计数\n",
    "\n",
    "    sub_energy = getEnergy(c, dd ,label)\n",
    "    informationGain.append(samples_energy - sub_energy)"
   ]
  },
  {
   "cell_type": "code",
   "execution_count": 22,
   "metadata": {
    "ExecuteTime": {
     "end_time": "2018-06-14T13:06:21.306827Z",
     "start_time": "2018-06-14T13:06:21.293648Z"
    }
   },
   "outputs": [
    {
     "data": {
      "text/plain": [
       "0.24001"
      ]
     },
     "execution_count": 22,
     "metadata": {},
     "output_type": "execute_result"
    }
   ],
   "source": [
    "width"
   ]
  }
 ],
 "metadata": {
  "kernelspec": {
   "display_name": "Python 2",
   "language": "python",
   "name": "python2"
  },
  "language_info": {
   "codemirror_mode": {
    "name": "ipython",
    "version": 2
   },
   "file_extension": ".py",
   "mimetype": "text/x-python",
   "name": "python",
   "nbconvert_exporter": "python",
   "pygments_lexer": "ipython2",
   "version": "2.7.12"
  },
  "nbTranslate": {
   "displayLangs": [
    "*"
   ],
   "hotkey": "alt-t",
   "langInMainMenu": true,
   "sourceLang": "en",
   "targetLang": "fr",
   "useGoogleTranslate": true
  },
  "toc": {
   "nav_menu": {},
   "number_sections": true,
   "sideBar": true,
   "skip_h1_title": false,
   "title_cell": "Table of Contents",
   "title_sidebar": "Contents",
   "toc_cell": false,
   "toc_position": {},
   "toc_section_display": true,
   "toc_window_display": false
  },
  "varInspector": {
   "cols": {
    "lenName": 16,
    "lenType": 16,
    "lenVar": 40
   },
   "kernels_config": {
    "python": {
     "delete_cmd_postfix": "",
     "delete_cmd_prefix": "del ",
     "library": "var_list.py",
     "varRefreshCmd": "print(var_dic_list())"
    },
    "r": {
     "delete_cmd_postfix": ") ",
     "delete_cmd_prefix": "rm(",
     "library": "var_list.r",
     "varRefreshCmd": "cat(var_dic_list()) "
    }
   },
   "types_to_exclude": [
    "module",
    "function",
    "builtin_function_or_method",
    "instance",
    "_Feature"
   ],
   "window_display": false
  }
 },
 "nbformat": 4,
 "nbformat_minor": 2
}
