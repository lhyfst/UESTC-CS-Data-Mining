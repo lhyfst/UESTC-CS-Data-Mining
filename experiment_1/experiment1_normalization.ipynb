{
 "cells": [
  {
   "cell_type": "code",
   "execution_count": 4,
   "metadata": {
    "ExecuteTime": {
     "end_time": "2018-06-14T11:43:15.883398Z",
     "start_time": "2018-06-14T11:43:15.810214Z"
    }
   },
   "outputs": [],
   "source": [
    "import numpy as np\n",
    "import pandas as pd\n",
    "\n",
    "def loadIris(address):  \n",
    "    spf = pd.read_csv(address, sep=',', index_col=False, header=None)  # 加载数据集\n",
    "    strs = spf[4] # 提取标签列\n",
    "    spf.drop([4], axis=1, inplace=True)  # 去除标签列\n",
    "    return spf.values, strs\n",
    "\n",
    "# 归一化函数\n",
    "def normalization(data_matrix):\n",
    "    e = 1e-5  # 拉普拉斯因子\n",
    "    for c in range(4): # 对每一列进行归一化\n",
    "        maxNum = np.max( data_matrix[:,c])\n",
    "        minNum = np.min( data_matrix[:,c])\n",
    "        data_matrix[:,c] = (data_matrix[:,c] - minNum + e)/(maxNum - minNum + e)\n",
    "    return data_matrix\n",
    "\n",
    "\n",
    "if __name__ == '__main__':\n",
    "    filepath = 'iris.txt'\n",
    "    writepath = 'iris_normal.txt'\n",
    "    data_matrix,str_name = loadIris(filepath)\n",
    "    data_matrix = normalization(data_matrix)\n",
    "\n",
    "    spf = pd.DataFrame(data_matrix)\n",
    "    strs = str_name.values\n",
    "    spf.insert(4, 4, strs)  # 把标签列加回去\n",
    "\n",
    "    spf.to_csv(writepath, index= False, header= False)"
   ]
  }
 ],
 "metadata": {
  "kernelspec": {
   "display_name": "Python 2",
   "language": "python",
   "name": "python2"
  },
  "language_info": {
   "codemirror_mode": {
    "name": "ipython",
    "version": 2
   },
   "file_extension": ".py",
   "mimetype": "text/x-python",
   "name": "python",
   "nbconvert_exporter": "python",
   "pygments_lexer": "ipython2",
   "version": "2.7.12"
  },
  "nbTranslate": {
   "displayLangs": [
    "*"
   ],
   "hotkey": "alt-t",
   "langInMainMenu": true,
   "sourceLang": "en",
   "targetLang": "fr",
   "useGoogleTranslate": true
  },
  "toc": {
   "nav_menu": {},
   "number_sections": true,
   "sideBar": true,
   "skip_h1_title": false,
   "title_cell": "Table of Contents",
   "title_sidebar": "Contents",
   "toc_cell": false,
   "toc_position": {},
   "toc_section_display": true,
   "toc_window_display": false
  },
  "varInspector": {
   "cols": {
    "lenName": 16,
    "lenType": 16,
    "lenVar": 40
   },
   "kernels_config": {
    "python": {
     "delete_cmd_postfix": "",
     "delete_cmd_prefix": "del ",
     "library": "var_list.py",
     "varRefreshCmd": "print(var_dic_list())"
    },
    "r": {
     "delete_cmd_postfix": ") ",
     "delete_cmd_prefix": "rm(",
     "library": "var_list.r",
     "varRefreshCmd": "cat(var_dic_list()) "
    }
   },
   "types_to_exclude": [
    "module",
    "function",
    "builtin_function_or_method",
    "instance",
    "_Feature"
   ],
   "window_display": false
  }
 },
 "nbformat": 4,
 "nbformat_minor": 2
}
